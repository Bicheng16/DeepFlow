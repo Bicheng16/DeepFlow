{
 "cells": [
  {
   "cell_type": "code",
   "execution_count": 1,
   "metadata": {},
   "outputs": [
    {
     "name": "stdout",
     "output_type": "stream",
     "text": [
      "Populating the interactive namespace from numpy and matplotlib\n"
     ]
    }
   ],
   "source": [
    "%pylab inline\n",
    "%load_ext autoreload\n",
    "%autoreload 2\n",
    "import os\n",
    "os.chdir(\"../\")\n",
    "\n",
    "import pandas as pd\n",
    "import numpy as np\n",
    "\n",
    "from tqdm import tqdm_notebook as tqdm"
   ]
  },
  {
   "cell_type": "code",
   "execution_count": 2,
   "metadata": {},
   "outputs": [
    {
     "name": "stderr",
     "output_type": "stream",
     "text": [
      "/home/lm715/anaconda2/envs/dlenv/lib/python3.6/site-packages/dask/config.py:168: YAMLLoadWarning: calling yaml.load() without Loader=... is deprecated, as the default Loader is unsafe. Please read https://msg.pyyaml.org/load for full details.\n",
      "  data = yaml.load(f.read()) or {}\n",
      "/home/lm715/anaconda2/envs/dlenv/lib/python3.6/site-packages/distributed/config.py:20: YAMLLoadWarning: calling yaml.load() without Loader=... is deprecated, as the default Loader is unsafe. Please read https://msg.pyyaml.org/load for full details.\n",
      "  defaults = yaml.load(f)\n"
     ]
    }
   ],
   "source": [
    "from scipy import stats\n",
    "from deepflow.plotting_utils import colorbar, load_folders, create_simulation_time_axis\n",
    "from deepflow.plotting_utils import get_unconditionals, determine_connected\n",
    "from deepflow.plotting_utils import plot_misfit_histograms, get_reference_curves, extract_curves\n",
    "from deepflow.plotting_utils import inverse_permeability_transform, load_gt_model_from_numpy\n",
    "from deepflow.plotting_utils import update_matplotlib_config"
   ]
  },
  {
   "cell_type": "markdown",
   "metadata": {},
   "source": [
    "### Loading all the necessary data for the connectivity analysis"
   ]
  },
  {
   "cell_type": "code",
   "execution_count": 3,
   "metadata": {},
   "outputs": [],
   "source": [
    "plot = False\n",
    "working_dir = './results/runs/'\n",
    "perm = \"low_perm\"\n",
    "\n",
    "#Creates the simulation time axis\n",
    "dts = create_simulation_time_axis()\n",
    "\n",
    "#Load the ground truth case from the test set, corresponds to test set model 67\n",
    "envelope = load_gt_model_from_numpy(\"./results/model_67_x.npy\")"
   ]
  },
  {
   "cell_type": "code",
   "execution_count": 4,
   "metadata": {
    "scrolled": true
   },
   "outputs": [
    {
     "name": "stdout",
     "output_type": "stream",
     "text": [
      "99\n",
      "199\n",
      "299\n",
      "399\n",
      "499\n",
      "599\n",
      "699\n",
      "799\n",
      "899\n",
      "999\n"
     ]
    }
   ],
   "source": [
    "unc_curves, unc_poros, unc_perms, unc_zs, unc_misfits = get_unconditionals(working_dir, perm)\n",
    "folders = [perm+a for a in [\"/wells_adam_bce\", \"/flow_adam_bce\", \"/flowwells_adam_bce\"]]"
   ]
  },
  {
   "cell_type": "code",
   "execution_count": 5,
   "metadata": {},
   "outputs": [],
   "source": [
    "all_curves, all_poroperms, all_zs = load_folders(working_dir, folders, functionals=[\"min_map\"]*3)"
   ]
  },
  {
   "cell_type": "code",
   "execution_count": 6,
   "metadata": {},
   "outputs": [],
   "source": [
    "unc_props = np.concatenate([unc_poros.reshape(1000, 1, 64, 128), unc_perms.reshape(1000, 1, 64, 128)], 1)"
   ]
  },
  {
   "cell_type": "code",
   "execution_count": 7,
   "metadata": {},
   "outputs": [],
   "source": [
    "#update_matplotlib_config()\n",
    "\n",
    "# inspired by http://nipunbatra.github.io/2014/08/latexify/\n",
    "params = {\n",
    "    'text.latex.preamble': ['\\\\usepackage{gensymb}'],\n",
    "    'image.origin': 'lower',\n",
    "    'image.interpolation': 'nearest',\n",
    "    'image.cmap': 'gray',\n",
    "    'axes.grid': False,\n",
    "    'savefig.dpi': 150,  # to adjust notebook inline plot size\n",
    "    'axes.labelsize': 8, # fontsize for x and y labels (was 10)\n",
    "    'axes.titlesize': 8,\n",
    "    'font.size': 8, # was 10\n",
    "    'legend.fontsize': 10, # was 10\n",
    "    'xtick.labelsize': 14,\n",
    "    'ytick.labelsize': 14,\n",
    "    'text.usetex': True,\n",
    "    'figure.figsize': [14, 12],\n",
    "    'font.family': 'serif',\n",
    "}\n",
    "matplotlib.rcParams.update(params)"
   ]
  },
  {
   "cell_type": "markdown",
   "metadata": {},
   "source": [
    "### Check if connected with and without dilation"
   ]
  },
  {
   "cell_type": "code",
   "execution_count": 8,
   "metadata": {},
   "outputs": [],
   "source": [
    "dilation = False\n",
    "connected_facies_unc = [determine_connected(np.where(inverse_permeability_transform(poro_perm[1])>0.5, 1, 0)[::-1], dilation) for poro_perm in unc_props[0:100]] \n",
    "connected_facies_wells = [determine_connected(np.where(inverse_permeability_transform(poro_perm[1])>0.5, 1, 0)[::-1], dilation) for poro_perm in all_poroperms[0][0]] \n",
    "connected_facies_flow = [determine_connected(np.where(inverse_permeability_transform(poro_perm[1])>0.5, 1, 0)[::-1], dilation) for poro_perm in all_poroperms[1][0]] \n",
    "connected_facies_flow_wells = [determine_connected(np.where(inverse_permeability_transform(poro_perm[1])>0.5, 1, 0)[::-1], dilation) for poro_perm in all_poroperms[2][0]]\n",
    "\n",
    "dilation = True\n",
    "connected_facies_unc_dl = [determine_connected(np.where(inverse_permeability_transform(poro_perm[1])>0.5, 1, 0)[::-1], dilation) for poro_perm in unc_props[0:100]] \n",
    "connected_facies_wells_dl = [determine_connected(np.where(inverse_permeability_transform(poro_perm[1])>0.5, 1, 0)[::-1], dilation) for poro_perm in all_poroperms[0][0]] \n",
    "connected_facies_flow_dl = [determine_connected(np.where(inverse_permeability_transform(poro_perm[1])>0.5, 1, 0)[::-1], dilation) for poro_perm in all_poroperms[1][0]] \n",
    "connected_facies_flow_wells_dl = [determine_connected(np.where(inverse_permeability_transform(poro_perm[1])>0.5, 1, 0)[::-1], dilation) for poro_perm in all_poroperms[2][0]] "
   ]
  },
  {
   "cell_type": "markdown",
   "metadata": {},
   "source": [
    "## Plot bar chart of number of models that are connected with/without dilation"
   ]
  },
  {
   "cell_type": "code",
   "execution_count": 9,
   "metadata": {},
   "outputs": [
    {
     "name": "stdout",
     "output_type": "stream",
     "text": [
      "[35, 51, 98, 100]\n"
     ]
    },
    {
     "data": {
      "image/png": "[encoded data removed]",
      "text/plain": [
       "<Figure size 1152x432 with 1 Axes>"
      ]
     },
     "metadata": {
      "needs_background": "light"
     },
     "output_type": "display_data"
    }
   ],
   "source": [
    "N = 4\n",
    "\n",
    "fig, ax = plt.subplots(1, 1, figsize=(16, 6))\n",
    "\n",
    "ind = np.arange(N)    # the x locations for the groups\n",
    "width = 0.35         # the width of the bars\n",
    "\n",
    "counts = [np.sum(c) for c in [connected_facies_unc,\n",
    "          connected_facies_wells,\n",
    "          connected_facies_flow,\n",
    "          connected_facies_wells]]\n",
    "\n",
    "p1 = ax.bar(ind, counts, width, color='black', bottom=0, yerr=None)\n",
    "\n",
    "counts = [np.sum(c) for c in [connected_facies_unc_dl,\n",
    "          connected_facies_wells_dl,\n",
    "          connected_facies_flow_dl,\n",
    "          connected_facies_flow_wells_dl]]\n",
    "\n",
    "print(counts)\n",
    "\n",
    "p2 = ax.bar(ind+width, counts, width, color='r', bottom=0, yerr=None, alpha=0.8)\n",
    "\n",
    "ax.set_xticks(ind + width / 2)\n",
    "ax.set_xticklabels(('Prior', 'Wells', 'Flow', 'Flow+Wells'), fontsize=16)\n",
    "\n",
    "ax.legend((p1[0], p2[0]), ('Not Dilated (N=100)', 'Dilated (N=100)'), loc=0, fontsize=20)\n",
    "ax.autoscale_view()\n",
    "fig.tight_layout()\n",
    "if plot:\n",
    "    plt.savefig(\"./results/figures/connected_comparison.png\", dpi=300, bbox_inches=\"tight\")"
   ]
  },
  {
   "cell_type": "code",
   "execution_count": null,
   "metadata": {},
   "outputs": [],
   "source": []
  }
 ],
 "metadata": {
  "kernelspec": {
   "display_name": "Python [conda env:dlenv]",
   "language": "python",
   "name": "conda-env-dlenv-py"
  },
  "language_info": {
   "codemirror_mode": {
    "name": "ipython",
    "version": 3
   },
   "file_extension": ".py",
   "mimetype": "text/x-python",
   "name": "python",
   "nbconvert_exporter": "python",
   "pygments_lexer": "ipython3",
   "version": "3.6.5"
  }
 },
 "nbformat": 4,
 "nbformat_minor": 2
}
